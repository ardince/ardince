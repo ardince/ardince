{
 "cells": [
  {
   "cell_type": "code",
   "execution_count": 1,
   "id": "e86c4847-886f-4732-9360-0d7afa5dfc62",
   "metadata": {},
   "outputs": [
    {
     "data": {
      "text/plain": [
       "(104,)"
      ]
     },
     "execution_count": 1,
     "metadata": {},
     "output_type": "execute_result"
    }
   ],
   "source": [
    "import numpy as np\n",
    "import matplotlib.pyplot as plt\n",
    "\n",
    "# Voltage data from the image (manually extracted from the line chart)\n",
    "# These values approximate what appears in the uploaded LSTM chart image\n",
    "voltage_data = np.array([\n",
    "    14.15, 14.15, 14.14, 14.13, 14.13, 14.13, 14.12, 14.12, 14.12, 14.11,\n",
    "    14.10, 14.10, 14.09, 14.09, 14.08, 14.08, 14.07, 14.07, 14.06, 14.06,\n",
    "    14.05, 14.05, 14.04, 14.04, 14.03, 14.03, 14.02, 14.02, 14.01, 14.01,\n",
    "    14.00, 14.00, 13.99, 13.99, 13.98, 13.98, 13.97, 13.97, 13.96, 13.96,\n",
    "    13.95, 13.95, 13.94, 13.94, 13.93, 13.93, 13.92, 13.92, 13.91, 13.91,\n",
    "    13.90, 13.90, 13.89, 13.89, 13.88, 13.88, 13.87, 13.87, 13.86, 13.86,\n",
    "    13.85, 13.85, 13.84, 13.84, 13.83, 13.83, 13.82, 13.82, 13.81, 13.81,\n",
    "    13.80, 13.80, 13.79, 13.79, 13.78, 13.78, 13.77, 13.77, 13.76, 13.76,\n",
    "    13.75, 13.75, 13.74, 13.74, 13.73, 13.73, 13.72, 13.72, 13.71, 13.71,\n",
    "    13.70, 13.70, 13.69, 13.69, 13.68, 13.68, 13.67, 13.67, 13.66, 13.66,\n",
    "    13.65, 13.65, 13.64, 13.64\n",
    "])\n",
    "\n",
    "voltage_data.shape  # Check the shape for confirmation (should be around 104)\n"
   ]
  },
  {
   "cell_type": "code",
   "execution_count": null,
   "id": "795a3bab-a9fa-4ee3-b12c-7c8d7f2fc7bf",
   "metadata": {},
   "outputs": [],
   "source": []
  }
 ],
 "metadata": {
  "kernelspec": {
   "display_name": "Python [conda env:digi_twin] *",
   "language": "python",
   "name": "conda-env-digi_twin-py"
  },
  "language_info": {
   "codemirror_mode": {
    "name": "ipython",
    "version": 3
   },
   "file_extension": ".py",
   "mimetype": "text/x-python",
   "name": "python",
   "nbconvert_exporter": "python",
   "pygments_lexer": "ipython3",
   "version": "3.11.9"
  }
 },
 "nbformat": 4,
 "nbformat_minor": 5
}
