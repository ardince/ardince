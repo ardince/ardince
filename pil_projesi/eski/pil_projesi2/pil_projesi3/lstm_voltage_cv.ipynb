
{
 "cells": [
  {
   "cell_type": "markdown",
   "metadata": {},
   "source": [
    "# LSTM Cross-Validation on Voltage Dataset\n",
    "This notebook applies time-series-aware cross-validation to an LSTM model using a synthetic voltage dataset extracted from a chart."
   ]
  },
  {
   "cell_type": "code",
   "execution_count": null,
   "metadata": {},
   "outputs": [],
   "source": [
    "# Install required packages (if running locally)\n",
    "# !pip install numpy pandas matplotlib scikit-learn tensorflow"
   ]
  },
  {
   "cell_type": "code",
   "execution_count": null,
   "metadata": {},
   "outputs": [],
   "source": [
    "import numpy as np\n",
    "import pandas as pd\n",
    "import matplotlib.pyplot as plt\n",
    "from sklearn.model_selection import TimeSeriesSplit\n",
    "from sklearn.preprocessing import MinMaxScaler\n",
    "from tensorflow.keras.models import Sequential\n",
    "from tensorflow.keras.layers import LSTM, Dense\n",
    "from tensorflow.keras.optimizers import Adam"
   ]
  },
  {
   "cell_type": "code",
   "execution_count": null,
   "metadata": {},
   "outputs": [],
   "source": [
    "# Voltage dataset (extracted from image)\n",
    "voltage_data = np.array([\n",
    "    14.15, 14.15, 14.14, 14.13, 14.13, 14.13, 14.12, 14.12, 14.12, 14.11,\n",
    "    14.10, 14.10, 14.09, 14.09, 14.08, 14.08, 14.07, 14.07, 14.06, 14.06,\n",
    "    14.05, 14.05, 14.04, 14.04, 14.03, 14.03, 14.02, 14.02, 14.01, 14.01,\n",
    "    14.00, 14.00, 13.99, 13.99, 13.98, 13.98, 13.97, 13.97, 13.96, 13.96,\n",
    "    13.95, 13.95, 13.94, 13.94, 13.93, 13.93, 13.92, 13.92, 13.91, 13.91,\n",
    "    13.90, 13.90, 13.89, 13.89, 13.88, 13.88, 13.87, 13.87, 13.86, 13.86,\n",
    "    13.85, 13.85, 13.84, 13.84, 13.83, 13.83, 13.82, 13.82, 13.81, 13.81,\n",
    "    13.80, 13.80, 13.79, 13.79, 13.78, 13.78, 13.77, 13.77, 13.76, 13.76,\n",
    "    13.75, 13.75, 13.74, 13.74, 13.73, 13.73, 13.72, 13.72, 13.71, 13.71,\n",
    "    13.70, 13.70, 13.69, 13.69, 13.68, 13.68, 13.67, 13.67, 13.66, 13.66,\n",
    "    13.65, 13.65, 13.64, 13.64\n",
    "])"
   ]
  },
  {
   "cell_type": "code",
   "execution_count": null,
   "metadata": {},
   "outputs": [],
   "source": [
    "# Normalize the data\n",
    "scaler = MinMaxScaler()\n",
    "voltage_scaled = scaler.fit_transform(voltage_data.reshape(-1, 1))"
   ]
  },
  {
   "cell_type": "code",
   "execution_count": null,
   "metadata": {},
   "outputs": [],
   "source": [
    "# Prepare sequences\n",
    "def create_sequences(data, seq_length):\n",
    "    X, y = [], []\n",
    "    for i in range(len(data) - seq_length):\n",
    "        X.append(data[i:i+seq_length])\n",
    "        y.append(data[i+seq_length])\n",
    "    return np.array(X), np.array(y)\n",
    "\n",
    "SEQ_LEN = 10\n",
    "X, y = create_sequences(voltage_scaled, SEQ_LEN)"
   ]
  },
  {
   "cell_type": "code",
   "execution_count": null,
   "metadata": {},
   "outputs": [],
   "source": [
    "# Define LSTM model function\n",
    "def build_model(input_shape):\n",
    "    model = Sequential()\n",
    "    model.add(LSTM(50, activation='relu', input_shape=input_shape))\n",
    "    model.add(Dense(1))\n",
    "    model.compile(optimizer=Adam(learning_rate=0.001), loss='mse')\n",
    "    return model"
   ]
  },
  {
   "cell_type": "code",
   "execution_count": null,
   "metadata": {},
   "outputs": [],
   "source": [
    "# Time series cross-validation\n",
    "tscv = TimeSeriesSplit(n_splits=5)\n",
    "histories = []\n",
    "losses = []\n",
    "\n",
    "for fold, (train_idx, test_idx) in enumerate(tscv.split(X)):\n",
    "    print(f"Fold {fold+1}")\n",
    "    model = build_model((SEQ_LEN, 1))\n",
    "    X_train, y_train = X[train_idx], y[train_idx]\n",
    "    X_test, y_test = X[test_idx], y[test_idx]\n",
    "    \n",
    "    history = model.fit(X_train, y_train, epochs=20, verbose=0)\n",
    "    loss = model.evaluate(X_test, y_test, verbose=0)\n",
    "    losses.append(loss)\n",
    "    print(f"Loss: {loss:.6f}\n")"
   ]
  }
 ],
 "metadata": {
  "kernelspec": {
   "display_name": "Python 3",
   "language": "python",
   "name": "python3"
  },
  "language_info": {
   "name": "python"
  }
 },
 "nbformat": 4,
 "nbformat_minor": 5
}
