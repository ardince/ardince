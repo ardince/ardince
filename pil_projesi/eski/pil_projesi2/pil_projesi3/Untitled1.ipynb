{
 "cells": [
  {
   "cell_type": "code",
   "execution_count": null,
   "id": "0863c2b0-a65c-4494-983c-cf40da685c23",
   "metadata": {},
   "outputs": [],
   "source": [
    "import numpy as np\n",
    "import tensorflow as tf\n",
    "from sklearn.metrics import mean_squared_error\n",
    "\n",
    "# Prepare dataset\n",
    "def create_sequences(data, window_size):\n",
    "    X, y = [], []\n",
    "    for i in range(len(data) - window_size):\n",
    "        X.append(data[i:i+window_size])\n",
    "        y.append(data[i+window_size])\n",
    "    return np.array(X), np.array(y)\n",
    "\n",
    "def walk_forward_cv(data, window_size=10, n_splits=5, epochs=50):\n",
    "    fold_size = (len(data) - window_size) // (n_splits + 1)\n",
    "    errors = []\n",
    "\n",
    "    for i in range(n_splits):\n",
    "        end_train = window_size + fold_size * (i + 1)\n",
    "        train_data = data[:end_train]\n",
    "        val_data = data[end_train:end_train + fold_size]\n",
    "\n",
    "        # Skip if not enough validation data\n",
    "        if len(val_data) < 1:\n",
    "            break\n",
    "\n",
    "        # Create sequences\n",
    "        X_train, y_train = create_sequences(train_data, window_size)\n",
    "        X_val, y_val = create_sequences(np.concatenate([train_data[-window_size:], val_data]), window_size)\n",
    "\n",
    "        # Reshape for LSTM\n",
    "        X_train = X_train[..., np.newaxis]\n",
    "        X_val = X_val[..., np.newaxis]\n",
    "\n",
    "        # Build model\n",
    "        model = tf.keras.Sequential([\n",
    "            tf.keras.layers.LSTM(128, input_shape=(window_size, 1)),\n",
    "            tf.keras.layers.Dense(1)\n",
    "        ])\n",
    "        model.compile(loss='mse', optimizer='adam')\n",
    "        model.fit(X_train, y_train, epochs=epochs, verbose=0)\n",
    "\n",
    "        # Evaluate\n",
    "        y_pred = model.predict(X_val, verbose=0).flatten()\n",
    "        error = mean_squared_error(y_val, y_pred)\n",
    "        errors.append(error)\n",
    "        print(f\"Fold {i+1}/{n_splits}, MSE: {error:.6f}\")\n",
    "\n",
    "    print(f\"\\nAverage CV MSE: {np.mean(errors):.6f}\")\n",
    "    return errors\n",
    "\n",
    "# Example usage:\n",
    "# voltage_data = np.array([...])  # Your 104 measurements\n",
    "# walk_forward_cv(voltage_data, window_size=10, n_splits=5, epochs=50)\n"
   ]
  }
 ],
 "metadata": {
  "kernelspec": {
   "display_name": "Python [conda env:digi_twin] *",
   "language": "python",
   "name": "conda-env-digi_twin-py"
  },
  "language_info": {
   "codemirror_mode": {
    "name": "ipython",
    "version": 3
   },
   "file_extension": ".py",
   "mimetype": "text/x-python",
   "name": "python",
   "nbconvert_exporter": "python",
   "pygments_lexer": "ipython3",
   "version": "3.11.9"
  }
 },
 "nbformat": 4,
 "nbformat_minor": 5
}
